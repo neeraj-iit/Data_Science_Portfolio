{
 "cells": [
  {
   "cell_type": "markdown",
   "metadata": {},
   "source": [
    "## Importing Libraries"
   ]
  },
  {
   "cell_type": "code",
   "execution_count": 1,
   "metadata": {},
   "outputs": [],
   "source": [
    "import numpy as np \n",
    "import matplotlib.pyplot as plt"
   ]
  },
  {
   "cell_type": "markdown",
   "metadata": {},
   "source": [
    "## Custom implementation of KNN"
   ]
  },
  {
   "cell_type": "code",
   "execution_count": 2,
   "metadata": {},
   "outputs": [],
   "source": [
    "class CustomKNN:\n",
    "    # choosing neighbours as odd to avoid ties\n",
    "    def __init__(self, k=5):\n",
    "        self.k = k\n",
    "\n",
    "    def fit(self,X,y):\n",
    "        self._X = X.astype(np.int64)\n",
    "        self._y = y\n",
    "\n",
    "    # given a single point, it predicts which class it belongs to \n",
    "    def predict_pt(self,pt):\n",
    "        # list for storing the distance of given point \"pt\" from each point in training data\n",
    "        list_pt=[]\n",
    "\n",
    "        for x_pt,y_pt in zip(self._X ,self._y):\n",
    "            # calculation of Euclidean distance\n",
    "            euclidean_dist =((pt - x_pt)**2).sum()\n",
    "            # this list consists of sublists which consist of distance from given point and the class to which it belongs to\n",
    "            list_pt.append([euclidean_dist,y_pt])\n",
    "\n",
    "        # sorting the calculated distances in ascending order based on distance values\n",
    "        sorted_dist =sorted(list_pt)\n",
    "        # getting top k rows from the sorted array\n",
    "        top_k = sorted_dist[:self.k]\n",
    "        # Get the most frequent class of these rows\n",
    "        # [:,1] because we want unique values of class & not dist(by default)\n",
    "        items,counts = np.unique(np.array(top_k)[:,1],return_counts=True)\n",
    "        #argmax will return the indices of the maximum values along an axis\n",
    "        res = items[np.argmax(counts)]\n",
    "        return res\n",
    "\n",
    "    # to provide answer for each number in the array \n",
    "    def predict(self,X):\n",
    "        results = []\n",
    "        for pt in X:\n",
    "            results.append(self.predict_pt(pt))\n",
    "        return np.array(results,dtype= int)\n",
    "        \n",
    "    # to calculate the accuracy of our model\n",
    "    def accuracy(self,X,y):\n",
    "        return sum(self.predict(X)==y)/len(y)\n",
    "        "
   ]
  },
  {
   "cell_type": "markdown",
   "metadata": {},
   "source": [
    "## Getting Data & Selecting Features"
   ]
  },
  {
   "cell_type": "code",
   "execution_count": 3,
   "metadata": {},
   "outputs": [],
   "source": [
    "data = np.load(\"./dataset/mnist_train_small.npy\")\n",
    "X,y = data[:, 1:], data[:, 0]"
   ]
  },
  {
   "cell_type": "markdown",
   "metadata": {},
   "source": [
    "## Model Building"
   ]
  },
  {
   "cell_type": "code",
   "execution_count": 4,
   "metadata": {},
   "outputs": [],
   "source": [
    "from sklearn.model_selection import train_test_split\n",
    "X_train, X_test, y_train, y_test = train_test_split(X, y, test_size=0.33, random_state=42)"
   ]
  },
  {
   "cell_type": "code",
   "execution_count": 5,
   "metadata": {},
   "outputs": [],
   "source": [
    "model = CustomKNN(k=3)\n",
    "model.fit(X_train ,y_train)"
   ]
  },
  {
   "cell_type": "code",
   "execution_count": 6,
   "metadata": {},
   "outputs": [
    {
     "data": {
      "text/plain": [
       "array([1, 7, 0, 9, 4, 5, 4, 6, 9, 2])"
      ]
     },
     "execution_count": 6,
     "metadata": {},
     "output_type": "execute_result"
    }
   ],
   "source": [
    "model.predict(X_test[:10])"
   ]
  },
  {
   "cell_type": "code",
   "execution_count": 7,
   "metadata": {},
   "outputs": [
    {
     "data": {
      "text/plain": [
       "array([7, 7, 0, 9, 4, 5, 4, 6, 9, 2], dtype=uint8)"
      ]
     },
     "execution_count": 7,
     "metadata": {},
     "output_type": "execute_result"
    }
   ],
   "source": [
    "y_test[:10]"
   ]
  },
  {
   "cell_type": "code",
   "execution_count": 8,
   "metadata": {},
   "outputs": [
    {
     "data": {
      "text/plain": [
       "0.96"
      ]
     },
     "execution_count": 8,
     "metadata": {},
     "output_type": "execute_result"
    }
   ],
   "source": [
    "model.accuracy(X_test[:100], y_test[:100])"
   ]
  }
 ],
 "metadata": {
  "interpreter": {
   "hash": "85db6da7787130e1a460985840952276764ba71a5c880e584e8b35b38fecc972"
  },
  "kernelspec": {
   "display_name": "Python 3.9.0 64-bit",
   "name": "python3"
  },
  "language_info": {
   "codemirror_mode": {
    "name": "ipython",
    "version": 3
   },
   "file_extension": ".py",
   "mimetype": "text/x-python",
   "name": "python",
   "nbconvert_exporter": "python",
   "pygments_lexer": "ipython3",
   "version": "3.9.0"
  },
  "orig_nbformat": 4
 },
 "nbformat": 4,
 "nbformat_minor": 2
}
